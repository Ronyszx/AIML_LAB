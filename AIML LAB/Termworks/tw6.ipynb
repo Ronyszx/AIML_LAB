{
 "cells": [
  {
   "cell_type": "code",
   "execution_count": 5,
   "metadata": {
    "collapsed": true
   },
   "outputs": [
    {
     "name": "stdout",
     "output_type": "stream",
     "text": [
      "    Outlook Temperature Humidity   Windy PlayTennis\n",
      "0     Sunny         Hot     High    Weak         No\n",
      "1     Sunny         Hot     High  Strong         No\n",
      "2  Overcast         Hot     High    Weak        Yes\n",
      "3      Rain        Mild     High    Weak        Yes\n",
      "4      Rain        Cool   Normal    Weak        Yes\n",
      "    Outlook Temperature Humidity   Windy\n",
      "0     Sunny         Hot     High    Weak\n",
      "1     Sunny         Hot     High  Strong\n",
      "2  Overcast         Hot     High    Weak\n",
      "3      Rain        Mild     High    Weak\n",
      "4      Rain        Cool   Normal    Weak\n",
      "0     No\n",
      "1     No\n",
      "2    Yes\n",
      "3    Yes\n",
      "4    Yes\n",
      "Name: PlayTennis, dtype: object\n",
      "0.6666666666666666\n"
     ]
    },
    {
     "name": "stderr",
     "output_type": "stream",
     "text": [
      "C:\\Users\\ronys\\AppData\\Local\\Temp\\ipykernel_24320\\3412296543.py:17: SettingWithCopyWarning: \n",
      "A value is trying to be set on a copy of a slice from a DataFrame.\n",
      "Try using .loc[row_indexer,col_indexer] = value instead\n",
      "\n",
      "See the caveats in the documentation: https://pandas.pydata.org/pandas-docs/stable/user_guide/indexing.html#returning-a-view-versus-a-copy\n",
      "  X.Outlook = outlook.fit_transform(X.Outlook)\n",
      "C:\\Users\\ronys\\AppData\\Local\\Temp\\ipykernel_24320\\3412296543.py:20: SettingWithCopyWarning: \n",
      "A value is trying to be set on a copy of a slice from a DataFrame.\n",
      "Try using .loc[row_indexer,col_indexer] = value instead\n",
      "\n",
      "See the caveats in the documentation: https://pandas.pydata.org/pandas-docs/stable/user_guide/indexing.html#returning-a-view-versus-a-copy\n",
      "  X.Temperature = outlook.fit_transform(X.Temperature)\n",
      "C:\\Users\\ronys\\AppData\\Local\\Temp\\ipykernel_24320\\3412296543.py:23: SettingWithCopyWarning: \n",
      "A value is trying to be set on a copy of a slice from a DataFrame.\n",
      "Try using .loc[row_indexer,col_indexer] = value instead\n",
      "\n",
      "See the caveats in the documentation: https://pandas.pydata.org/pandas-docs/stable/user_guide/indexing.html#returning-a-view-versus-a-copy\n",
      "  X.Humidity = outlook.fit_transform(X.Humidity)\n",
      "C:\\Users\\ronys\\AppData\\Local\\Temp\\ipykernel_24320\\3412296543.py:26: SettingWithCopyWarning: \n",
      "A value is trying to be set on a copy of a slice from a DataFrame.\n",
      "Try using .loc[row_indexer,col_indexer] = value instead\n",
      "\n",
      "See the caveats in the documentation: https://pandas.pydata.org/pandas-docs/stable/user_guide/indexing.html#returning-a-view-versus-a-copy\n",
      "  X.Windy = outlook.fit_transform(X.Windy)\n"
     ]
    }
   ],
   "source": [
    "import pandas as pd\n",
    "from sklearn.naive_bayes import GaussianNB\n",
    "from sklearn.preprocessing import LabelEncoder\n",
    "from sklearn.model_selection import train_test_split\n",
    "import sklearn.metrics as sm\n",
    "\n",
    "data = pd.read_csv('tennisdata.csv')\n",
    "print(data.head())\n",
    "\n",
    "X = data.iloc[:,:-1]\n",
    "print(X.head())\n",
    "\n",
    "Y = data.iloc[:,-1]\n",
    "print(Y.head())\n",
    "\n",
    "outlook = LabelEncoder()\n",
    "X.Outlook = outlook.fit_transform(X.Outlook)\n",
    "\n",
    "temperature = LabelEncoder()\n",
    "X.Temperature = outlook.fit_transform(X.Temperature)\n",
    "\n",
    "humidity = LabelEncoder()\n",
    "X.Humidity = outlook.fit_transform(X.Humidity)\n",
    "\n",
    "windy = LabelEncoder()\n",
    "X.Windy = outlook.fit_transform(X.Windy)\n",
    "\n",
    "playTennis = LabelEncoder()\n",
    "Y = playTennis.fit_transform(Y)\n",
    "\n",
    "xtrain, xtest, ytrain, ytest = train_test_split(X, Y , test_size= 0.20)\n",
    "classifier = GaussianNB()\n",
    "classifier.fit(xtrain, ytrain)\n",
    "\n",
    "\n",
    "print(sm.accuracy_score(classifier.predict(xtest),ytest))\n",
    "\n",
    "\n"
   ]
  },
  {
   "cell_type": "code",
   "execution_count": null,
   "outputs": [],
   "source": [
    "    "
   ],
   "metadata": {
    "collapsed": false
   }
  }
 ],
 "metadata": {
  "kernelspec": {
   "display_name": "Python 3",
   "language": "python",
   "name": "python3"
  },
  "language_info": {
   "codemirror_mode": {
    "name": "ipython",
    "version": 2
   },
   "file_extension": ".py",
   "mimetype": "text/x-python",
   "name": "python",
   "nbconvert_exporter": "python",
   "pygments_lexer": "ipython2",
   "version": "2.7.6"
  }
 },
 "nbformat": 4,
 "nbformat_minor": 0
}
