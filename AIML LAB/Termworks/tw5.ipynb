{
 "cells": [
  {
   "cell_type": "code",
   "execution_count": 5,
   "metadata": {
    "collapsed": true
   },
   "outputs": [
    {
     "name": "stdout",
     "output_type": "stream",
     "text": [
      "[[0.66666667 1.        ]\n",
      " [0.33333333 0.55555556]\n",
      " [1.         0.66666667]]\n",
      "[[0.29]\n",
      " [0.86]\n",
      " [0.89]]\n",
      "[[0.35789876]\n",
      " [0.76619591]\n",
      " [0.88617839]]\n"
     ]
    }
   ],
   "source": [
    "import numpy as np\n",
    "\n",
    "X = np.array(([2,9],[1,5],[3,6]),dtype = float)\n",
    "Y = np.array(([29],[86],[89]),dtype = float)\n",
    "X = X/ np.amax(X , axis=0)\n",
    "Y = Y /100\n",
    "\n",
    "def sigmoid(x):\n",
    "    return 1 / (1+ np.exp(-x))\n",
    "\n",
    "def derivatives_sigmoid(x):\n",
    "    return x* (1-x)\n",
    "\n",
    "epoch = 6000\n",
    "lr =0.2\n",
    "\n",
    "input_neurons = 2\n",
    "hl_neurons = 3\n",
    "ol_neuron =1\n",
    "\n",
    "wh = np.random.uniform(size=(input_neurons,hl_neurons))\n",
    "bh = np.random.uniform(size=(1,hl_neurons))\n",
    "wout = np.random.uniform(size=(hl_neurons,ol_neuron))\n",
    "bout = np.random.uniform(size=(1,ol_neuron))\n",
    "\n",
    "for i in range(epoch):\n",
    "    hinp = np.dot(X, wh)\n",
    "    hinp1 = sigmoid(hinp)\n",
    "    oinp = np.dot(hinp1 ,wout)+bout\n",
    "    output = sigmoid(oinp)\n",
    "\n",
    "    hgrad = derivatives_sigmoid(hinp1)\n",
    "    ograd = derivatives_sigmoid(output)\n",
    "\n",
    "    EO = Y - output\n",
    "    doutput = EO * ograd\n",
    "\n",
    "    EH = doutput.dot(wout.T)\n",
    "    dhl = EH * hgrad\n",
    "\n",
    "    wout += hinp1.T.dot(doutput) * lr\n",
    "    wh +=X.T.dot(dhl) * lr\n",
    "\n",
    "print(str(X))\n",
    "print(str(Y))\n",
    "print(output)"
   ]
  },
  {
   "cell_type": "code",
   "execution_count": null,
   "outputs": [],
   "source": [],
   "metadata": {
    "collapsed": false
   }
  }
 ],
 "metadata": {
  "kernelspec": {
   "display_name": "Python 3",
   "language": "python",
   "name": "python3"
  },
  "language_info": {
   "codemirror_mode": {
    "name": "ipython",
    "version": 2
   },
   "file_extension": ".py",
   "mimetype": "text/x-python",
   "name": "python",
   "nbconvert_exporter": "python",
   "pygments_lexer": "ipython2",
   "version": "2.7.6"
  }
 },
 "nbformat": 4,
 "nbformat_minor": 0
}
